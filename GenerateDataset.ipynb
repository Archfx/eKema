{
 "cells": [
  {
   "cell_type": "code",
   "execution_count": 3,
   "metadata": {},
   "outputs": [],
   "source": [
    "import numpy as np\n",
    "import h5py\n",
    "import scipy\n",
    "import skimage\n",
    "from PIL import Image\n",
    "from scipy import ndimage\n",
    "from tqdm import tqdm\n",
    "import os\n",
    "import matplotlib.pyplot as plt\n",
    "from skimage import transform\n",
    "\n",
    "TRAIN_DIR='images/DataSet'\n",
    "TEST_DIR='images/TestSet'\n",
    "IMG_SIZE=64\n",
    "\n",
    "def label_img(img):\n",
    "    word_label=img.split(' ')\n",
    "    if word_label[0]=='Healthy':\n",
    "        return 0\n",
    "    elif word_label[0]=='LowFertile':\n",
    "        return 1\n",
    "    elif word_label[0]=='WeedType1':\n",
    "        return 2\n",
    "    elif word_label[0]=='WeedType2':\n",
    "        return 3\n",
    "    elif word_label[0]=='WeedType3':\n",
    "        return 4\n",
    "    elif word_label[0]=='WeedType4':\n",
    "        return 5\n",
    "    \n",
    "\n",
    "def generateTrainSet():\n",
    "    hf = h5py.File('images/temp/train_plants.h5', 'w')\n",
    "    d1 = []\n",
    "    d2 = []\n",
    "    for img in tqdm(os.listdir(TRAIN_DIR)):\n",
    "            label=label_img(img)\n",
    "            fname = os.path.join(TRAIN_DIR,img)\n",
    "            #print (fname)\n",
    "            image = np.array(plt.imread(fname))\n",
    "            my_image =skimage.transform.resize(image, (IMG_SIZE,IMG_SIZE))#.reshape((1, IMG_SIZE*IMG_SIZE*3)).T\n",
    "            d1.append(my_image)\n",
    "            d2.append(label)\n",
    "\n",
    "\n",
    "            #print (d1.shape, d2.shape)\n",
    "    d1=np.array(d1)\n",
    "    d2=np.array(d2)\n",
    "    hf.create_dataset('train_set_x', data=d1)\n",
    "    hf.create_dataset('train_set_y', data=d2)\n",
    "    hf.close()\n",
    "    \n",
    "def generateTestSet():\n",
    "    hf = h5py.File('images/temp/test_plants.h5', 'w')\n",
    "    d1 = []\n",
    "    d2 = []\n",
    "    for img in tqdm(os.listdir(TEST_DIR)):\n",
    "            label=label_img(img)\n",
    "            fname = os.path.join(TEST_DIR,img)\n",
    "            image = np.array(plt.imread(fname))\n",
    "            my_image = skimage.transform.resize(image,(IMG_SIZE,IMG_SIZE))#.reshape((1, IMG_SIZE*IMG_SIZE*3)).T\n",
    "            d1.append(my_image)\n",
    "            d2.append(label)\n",
    "\n",
    "\n",
    "            #print (d1.shape, d2.shape)\n",
    "    d1=np.array(d1)\n",
    "    d2=np.array(d2)\n",
    "    classes=np.array([0,1,2,3,4,5])\n",
    "    hf.create_dataset('test_set_x', data=d1)\n",
    "    hf.create_dataset('test_set_y', data=d2)\n",
    "    hf.create_dataset('list_classes', data=classes)\n",
    "    hf.close()"
   ]
  },
  {
   "cell_type": "code",
   "execution_count": 4,
   "metadata": {
    "scrolled": true
   },
   "outputs": [
    {
     "name": "stderr",
     "output_type": "stream",
     "text": [
      "  0%|                                                                                         | 0/3236 [00:00<?, ?it/s]c:\\program files\\python36\\lib\\site-packages\\skimage\\transform\\_warps.py:105: UserWarning: The default mode, 'constant', will be changed to 'reflect' in skimage 0.15.\n",
      "  warn(\"The default mode, 'constant', will be changed to 'reflect' in \"\n",
      "c:\\program files\\python36\\lib\\site-packages\\skimage\\transform\\_warps.py:110: UserWarning: Anti-aliasing will be enabled by default in skimage 0.15 to avoid aliasing artifacts when down-sampling images.\n",
      "  warn(\"Anti-aliasing will be enabled by default in skimage 0.15 to \"\n",
      "100%|██████████████████████████████████████████████████████████████████████████████| 3236/3236 [03:48<00:00, 14.17it/s]\n",
      "100%|████████████████████████████████████████████████████████████████████████████████| 807/807 [01:10<00:00, 11.37it/s]\n"
     ]
    }
   ],
   "source": [
    "generateTrainSet()\n",
    "generateTestSet()"
   ]
  },
  {
   "cell_type": "code",
   "execution_count": null,
   "metadata": {},
   "outputs": [],
   "source": [
    "train_set_x_orig.shape"
   ]
  },
  {
   "cell_type": "code",
   "execution_count": 7,
   "metadata": {},
   "outputs": [],
   "source": [
    "    train_dataset = h5py.File('datasets/train_plants.h5', \"r\")\n",
    "    train_set_x_orig = np.array(train_dataset[\"train_set_x\"][:])\n",
    "    train_set_y_orig = np.array(train_dataset[\"train_set_y\"][:])"
   ]
  },
  {
   "cell_type": "code",
   "execution_count": 8,
   "metadata": {},
   "outputs": [
    {
     "data": {
      "text/plain": [
       "(3236,)"
      ]
     },
     "execution_count": 8,
     "metadata": {},
     "output_type": "execute_result"
    }
   ],
   "source": [
    "train_set_y_orig.shape"
   ]
  },
  {
   "cell_type": "code",
   "execution_count": null,
   "metadata": {},
   "outputs": [],
   "source": []
  }
 ],
 "metadata": {
  "kernelspec": {
   "display_name": "Python 3",
   "language": "python",
   "name": "python3"
  },
  "language_info": {
   "codemirror_mode": {
    "name": "ipython",
    "version": 3
   },
   "file_extension": ".py",
   "mimetype": "text/x-python",
   "name": "python",
   "nbconvert_exporter": "python",
   "pygments_lexer": "ipython3",
   "version": "3.6.4"
  }
 },
 "nbformat": 4,
 "nbformat_minor": 2
}
